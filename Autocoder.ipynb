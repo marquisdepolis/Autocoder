{
 "cells": [
  {
   "cell_type": "code",
   "execution_count": 29,
   "metadata": {},
   "outputs": [
    {
     "name": "stdout",
     "output_type": "stream",
     "text": [
      "No errors\n"
     ]
    }
   ],
   "source": [
    "import openai\n",
    "import os\n",
    "from time import time,sleep\n",
    "import textwrap\n",
    "import re\n",
    "import tkinter as tk\n",
    "from tkinter import filedialog\n",
    "from bs4 import BeautifulSoup\n",
    "\n",
    "def open_file(filepath):\n",
    "    with open(filepath, 'r', encoding='utf-8') as infile:\n",
    "        return infile.read()\n",
    "\n",
    "directory = filedialog.askdirectory()\n",
    "os.chdir(directory)\n",
    "\n",
    "os.environ[\"OPENAI_API_KEY\"] = open_file('openai_api_key.txt')\n",
    "openai.api_key = open_file('openai_api_key.txt')\n",
    "openai_api_key = openai.api_key\n",
    "\n",
    "# Define the command to run the Python code\n",
    "prompt = input()\n",
    "response = openai.ChatCompletion.create(\n",
    "    model=\"gpt-3.5-turbo\",\n",
    "    messages = [\n",
    "    {\"role\": \"system\", \"content\" : \"You are a wonderful coder, able to write perfect beautiful code, but with absolutely no explanatory text whatsoever\"},\n",
    "    {\"role\": \"user\", \"content\": prompt}    \n",
    "    ]\n",
    ")\n",
    "\n",
    "generated_code = response.choices[0].message.content\n",
    "\n",
    "print(generated_code)\n",
    "\n",
    "# Might be worth adding a loop to add comment lines to non-code components of the output\n",
    "\n",
    "with open('autocoder_file.py', 'w') as f:\n",
    "    code = generated_code\n",
    "    f.write(repr(code))\n",
    "\n",
    "cmd = [\"python3\",\"autocoder_file.py\"]\n",
    "\n",
    "# Use subprocess to run the command and capture the output\n",
    "result = subprocess.run(cmd, capture_output=True, text=True)\n",
    "\n",
    "# If there is an error message, send it to OpenAI\n",
    "if result.stderr:\n",
    "    error_message = result.stderr\n",
    "    prompt = f\"Error message: {error_message}\"\n",
    "    response = openai.ChatCompletion.create(\n",
    "        model=\"gpt-3.5-turbo\",\n",
    "        messages = [\n",
    "        {\"role\": \"system\", \"content\" : \"You are a wonderful coder, able to write perfect beautiful code, but with absolutely no explanatory text whatsoever\"},\n",
    "        {\"role\": \"user\", \"content\": prompt}    \n",
    "        ]\n",
    "    )\n",
    "    if response.choices[0].text:\n",
    "        print(\"Error message sent to OpenAI Davinci API\")\n",
    "    else:\n",
    "        print(\"Error sending message to OpenAI Davinci API\")\n",
    "else:\n",
    "    print(\"No errors\")\n"
   ]
  }
 ],
 "metadata": {
  "kernelspec": {
   "display_name": "Python 3",
   "language": "python",
   "name": "python3"
  },
  "language_info": {
   "codemirror_mode": {
    "name": "ipython",
    "version": 3
   },
   "file_extension": ".py",
   "mimetype": "text/x-python",
   "name": "python",
   "nbconvert_exporter": "python",
   "pygments_lexer": "ipython3",
   "version": "3.9.6"
  },
  "orig_nbformat": 4
 },
 "nbformat": 4,
 "nbformat_minor": 2
}
