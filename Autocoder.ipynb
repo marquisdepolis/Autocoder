{
 "cells": [
  {
   "cell_type": "code",
   "execution_count": 1,
   "metadata": {},
   "outputs": [
    {
     "ename": "FileNotFoundError",
     "evalue": "[Errno 2] No such file or directory: '/Path/openai_api_key.txt'",
     "output_type": "error",
     "traceback": [
      "\u001b[0;31m---------------------------------------------------------------------------\u001b[0m",
      "\u001b[0;31mFileNotFoundError\u001b[0m                         Traceback (most recent call last)",
      "Cell \u001b[0;32mIn[1], line 11\u001b[0m\n\u001b[1;32m      8\u001b[0m     \u001b[39mwith\u001b[39;00m \u001b[39mopen\u001b[39m(filepath, \u001b[39m'\u001b[39m\u001b[39mr\u001b[39m\u001b[39m'\u001b[39m, encoding\u001b[39m=\u001b[39m\u001b[39m'\u001b[39m\u001b[39mutf-8\u001b[39m\u001b[39m'\u001b[39m) \u001b[39mas\u001b[39;00m infile:\n\u001b[1;32m      9\u001b[0m         \u001b[39mreturn\u001b[39;00m infile\u001b[39m.\u001b[39mread()\n\u001b[0;32m---> 11\u001b[0m os\u001b[39m.\u001b[39menviron[\u001b[39m\"\u001b[39m\u001b[39mOPENAI_API_KEY\u001b[39m\u001b[39m\"\u001b[39m] \u001b[39m=\u001b[39m open_file(\u001b[39m'\u001b[39;49m\u001b[39m/Path/openai_api_key.txt\u001b[39;49m\u001b[39m'\u001b[39;49m)\n\u001b[1;32m     12\u001b[0m openai\u001b[39m.\u001b[39mapi_key \u001b[39m=\u001b[39m open_file(\u001b[39m'\u001b[39m\u001b[39m/Path/openai_api_key.txt\u001b[39m\u001b[39m'\u001b[39m)\n\u001b[1;32m     13\u001b[0m openai_api_key \u001b[39m=\u001b[39m openai\u001b[39m.\u001b[39mapi_key\n",
      "Cell \u001b[0;32mIn[1], line 8\u001b[0m, in \u001b[0;36mopen_file\u001b[0;34m(filepath)\u001b[0m\n\u001b[1;32m      7\u001b[0m \u001b[39mdef\u001b[39;00m \u001b[39mopen_file\u001b[39m(filepath):\n\u001b[0;32m----> 8\u001b[0m     \u001b[39mwith\u001b[39;00m \u001b[39mopen\u001b[39;49m(filepath, \u001b[39m'\u001b[39;49m\u001b[39mr\u001b[39;49m\u001b[39m'\u001b[39;49m, encoding\u001b[39m=\u001b[39;49m\u001b[39m'\u001b[39;49m\u001b[39mutf-8\u001b[39;49m\u001b[39m'\u001b[39;49m) \u001b[39mas\u001b[39;00m infile:\n\u001b[1;32m      9\u001b[0m         \u001b[39mreturn\u001b[39;00m infile\u001b[39m.\u001b[39mread()\n",
      "File \u001b[0;32m~/Library/Python/3.9/lib/python/site-packages/IPython/core/interactiveshell.py:282\u001b[0m, in \u001b[0;36m_modified_open\u001b[0;34m(file, *args, **kwargs)\u001b[0m\n\u001b[1;32m    275\u001b[0m \u001b[39mif\u001b[39;00m file \u001b[39min\u001b[39;00m {\u001b[39m0\u001b[39m, \u001b[39m1\u001b[39m, \u001b[39m2\u001b[39m}:\n\u001b[1;32m    276\u001b[0m     \u001b[39mraise\u001b[39;00m \u001b[39mValueError\u001b[39;00m(\n\u001b[1;32m    277\u001b[0m         \u001b[39mf\u001b[39m\u001b[39m\"\u001b[39m\u001b[39mIPython won\u001b[39m\u001b[39m'\u001b[39m\u001b[39mt let you open fd=\u001b[39m\u001b[39m{\u001b[39;00mfile\u001b[39m}\u001b[39;00m\u001b[39m by default \u001b[39m\u001b[39m\"\u001b[39m\n\u001b[1;32m    278\u001b[0m         \u001b[39m\"\u001b[39m\u001b[39mas it is likely to crash IPython. If you know what you are doing, \u001b[39m\u001b[39m\"\u001b[39m\n\u001b[1;32m    279\u001b[0m         \u001b[39m\"\u001b[39m\u001b[39myou can use builtins\u001b[39m\u001b[39m'\u001b[39m\u001b[39m open.\u001b[39m\u001b[39m\"\u001b[39m\n\u001b[1;32m    280\u001b[0m     )\n\u001b[0;32m--> 282\u001b[0m \u001b[39mreturn\u001b[39;00m io_open(file, \u001b[39m*\u001b[39;49margs, \u001b[39m*\u001b[39;49m\u001b[39m*\u001b[39;49mkwargs)\n",
      "\u001b[0;31mFileNotFoundError\u001b[0m: [Errno 2] No such file or directory: '/Path/openai_api_key.txt'"
     ]
    }
   ],
   "source": [
    "import openai\n",
    "import json\n",
    "import subprocess\n",
    "import os\n",
    "\n",
    "# Set up your OpenAI API key\n",
    "def open_file(filepath):\n",
    "    with open(filepath, 'r', encoding='utf-8') as infile:\n",
    "        return infile.read()\n",
    "\n",
    "os.environ[\"OPENAI_API_KEY\"] = open_file('/Path/openai_api_key.txt')\n",
    "openai.api_key = open_file('/Path/openai_api_key.txt')\n",
    "openai_api_key = openai.api_key\n",
    "\n",
    "# Define the command to run the Python code\n",
    "prompt = input(\"Please generate Python code, with absolutely no other explanatory text, to:\")\n",
    "response = openai.ChatCompletion.create(\n",
    "    model=\"gpt-3.5-turbo\",\n",
    "    messages = [\n",
    "    {\"role\": \"system\", \"content\" : \"You are a wonderful coder, able to write perfect beautiful code, but with absolutely no explanatory text whatsoever\"},\n",
    "    {\"role\": \"user\", \"content\": prompt}    \n",
    "    ]\n",
    ")\n",
    "\n",
    "# Assume that the OpenAI API response is stored in a variable called 'response'\n",
    "generated_code = response.choices[0].message.content # Extract the generated code from the response\n",
    "\n",
    "with open('autocoder_file.py', 'w') as f:\n",
    "    code = generated_code\n",
    "    f.write(repr(code))\n",
    "\n",
    "cmd = [\"python3\",\"autocoder_file.py\"]\n",
    "\n",
    "# Use subprocess to run the command and capture the output\n",
    "result = subprocess.run(cmd, capture_output=True, text=True)\n",
    "\n",
    "# If there is an error message, send it to OpenAI via the Davinci API\n",
    "if result.stderr:\n",
    "    error_message = result.stderr\n",
    "    prompt = f\"Error message: {error_message}\"\n",
    "    response = openai.ChatCompletion.create(\n",
    "        model=\"gpt-3.5-turbo\",\n",
    "        messages = [\n",
    "        {\"role\": \"system\", \"content\" : \"You are a wonderful coder, able to write perfect beautiful code, but with absolutely no explanatory text whatsoever\"},\n",
    "        {\"role\": \"user\", \"content\": prompt}    \n",
    "        ]\n",
    "    )\n",
    "    if response.choices[0].text:\n",
    "        print(\"Error message sent to OpenAI Davinci API\")\n",
    "    else:\n",
    "        print(\"Error sending message to OpenAI Davinci API\")\n",
    "else:\n",
    "    print(\"No errors\")\n"
   ]
  },
  {
   "cell_type": "code",
   "execution_count": null,
   "metadata": {},
   "outputs": [],
   "source": []
  }
 ],
 "metadata": {
  "kernelspec": {
   "display_name": "Python 3",
   "language": "python",
   "name": "python3"
  },
  "language_info": {
   "codemirror_mode": {
    "name": "ipython",
    "version": 3
   },
   "file_extension": ".py",
   "mimetype": "text/x-python",
   "name": "python",
   "nbconvert_exporter": "python",
   "pygments_lexer": "ipython3",
   "version": "3.9.6"
  },
  "orig_nbformat": 4
 },
 "nbformat": 4,
 "nbformat_minor": 2
}
