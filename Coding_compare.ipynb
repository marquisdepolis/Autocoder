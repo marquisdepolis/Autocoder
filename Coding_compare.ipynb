{
 "cells": [
  {
   "cell_type": "code",
   "execution_count": 1,
   "metadata": {},
   "outputs": [
    {
     "name": "stderr",
     "output_type": "stream",
     "text": [
      "2023-03-14 16:43:22.381 Python[98526:2876719] +[CATransaction synchronize] called within transaction\n"
     ]
    }
   ],
   "source": [
    "import openai\n",
    "import os\n",
    "from time import time,sleep\n",
    "import textwrap\n",
    "import re\n",
    "import tkinter as tk\n",
    "from tkinter import filedialog\n",
    "from bs4 import BeautifulSoup\n",
    "\n",
    "def open_file(filepath):\n",
    "    with open(filepath, 'r', encoding='utf-8') as infile:\n",
    "        return infile.read()\n",
    "\n",
    "directory = filedialog.askdirectory()\n",
    "os.chdir(directory)\n",
    "\n",
    "os.environ[\"OPENAI_API_KEY\"] = open_file('openai_api_key.txt')\n",
    "openai.api_key = open_file('openai_api_key.txt')\n",
    "openai_api_key = openai.api_key"
   ]
  },
  {
   "cell_type": "code",
   "execution_count": 14,
   "metadata": {},
   "outputs": [
    {
     "name": "stdout",
     "output_type": "stream",
     "text": [
      "Here's the code to give you the 15th digit of the Fibonacci sequence:\n",
      "\n",
      "```python\n",
      "def fibonacci(n):\n",
      "    if n<=1:\n",
      "        return n\n",
      "    else:\n",
      "        return fibonacci(n-1)+fibonacci(n-2)\n",
      "\n",
      "nth_fibonacci_number = fibonacci(15)\n",
      "\n",
      "print(\"The 15th digit of Fibonacci sequence is:\", str(nth_fibonacci_number)[-1])\n",
      "```\n",
      "\n",
      "This code defines a recursive function called `fibonacci(n)` which takes a positive integer `n` as its parameter and returns the n-th number in the Fibonacci sequence.\n",
      "\n",
      "We then call the `fibonacci(15)` function to get the 15th number in the sequence and assign the value to the `nth_fibonacci_number` variable.\n",
      "\n",
      "Finally, we print the 15th digit of the Fibonacci sequence by converting `nth_fibonacci_number` to a string using the `str()` function and extracting the last character using the `[-1]` indexing syntax.\n"
     ]
    }
   ],
   "source": [
    "# Define the command to run the Python code\n",
    "prompt = input()\n",
    "response = openai.ChatCompletion.create(\n",
    "    model=\"gpt-3.5-turbo\",\n",
    "    messages = [\n",
    "    {\"role\": \"system\", \"content\" : \"You are a wonderful coder, able to write perfect beautiful code, but with absolutely no explanatory text whatsoever\"},\n",
    "    {\"role\": \"user\", \"content\": prompt}    \n",
    "    ]\n",
    ")\n",
    "print(response.choices[0].message.content)"
   ]
  },
  {
   "cell_type": "code",
   "execution_count": 15,
   "metadata": {},
   "outputs": [
    {
     "name": "stdout",
     "output_type": "stream",
     "text": [
      "Sure, here are the step by step instructions to find the 15th digit of the Fibonacci sequence:\n",
      "\n",
      "1. Write down the first two digits of the sequence, which are 0 and 1.\n",
      "2. To find the next number in the sequence, add the last two numbers together. So for example, 0+1=1, so the third digit in the sequence is 1.\n",
      "3. Repeat step 2 to find the fourth digit in the sequence, which is the sum of the second and third digits (1+1=2).\n",
      "4. Repeat step 2 again to find the fifth digit in the sequence (1+2=3).\n",
      "5. Continue this pattern, adding together the previous two digits to find the next one, until you have found the 15th digit in the sequence.\n",
      "6. To check if you have arrived at the correct 15th digit, you can double check using the below formula.\n",
      "\n",
      "The n(th) digit of the Fibonacci sequence can be found using the formula:\n",
      "\n",
      "F(n) = [1/√5] * {[(1+√5)/2]^n - [(1-√5)/2]^n}\n",
      "\n",
      "7. Replace 'n' with 15 in the above formula and solve for F(15) to verify that you have arrived at the correct 15th digit of the sequence.\n",
      "\n",
      " xxxx=====xxxxx\n",
      "\n",
      "\n",
      "\n",
      "# define a function to find the n(th) digit of the Fibonacci sequence\n",
      "def fibonacci(n):\n",
      "\n",
      "  # check if the value n is less than or equal to 0, if it is, print an error message and return None\n",
      "  if n <= 0:\n",
      "    print(\"Incorrect input\")\n",
      "    return None\n",
      "\n",
      "  # check for the first two digits of the sequence\n",
      "  elif n == 1:\n",
      "    return 0\n",
      "  elif n == 2:\n",
      "    return 1\n",
      "\n",
      "  # calculate the next digit by adding the previous two digits recursively\n",
      "  else:\n",
      "    return fibonacci(n-1) + fibonacci(n-2)\n",
      "\n",
      "# find the 15th digit of the Fibonacci sequence\n",
      "f15 = fibonacci(15)\n",
      "\n",
      "# print the 15th digit of the Fibonacci sequence\n",
      "print(\"The 15th digit of the Fibonacci sequence is:\", f15)\n",
      "\n",
      "# verify that the correct 15th digit has been found using the formula\n",
      "import math\n",
      "f15_formula = (1/math.sqrt(5)) * (((1+math.sqrt(5))/2)**15 - ((1-math.sqrt(5))/2)**15)\n",
      "print(\"Using the formula, the 15th digit of the Fibonacci sequence is:\", f15_formula)\n"
     ]
    }
   ],
   "source": [
    "# Define the command to run the Python code, with instructions\n",
    "interim_response = openai.ChatCompletion.create(\n",
    "    model=\"gpt-3.5-turbo\",\n",
    "    messages = [\n",
    "    {\"role\": \"system\", \"content\" : \"You are a McKinsey consultant. You're great at creating step by step instructions, like a checklist, to break down problems.\"},\n",
    "    {\"role\": \"user\", \"content\": \"Create step by step instructions (no code) to solve:\" + prompt}    \n",
    "    ]\n",
    ")\n",
    "print(interim_response.choices[0].message.content + \"\\n\\n xxxx=====xxxxx\\n\")\n",
    "response = openai.ChatCompletion.create(\n",
    "    model=\"gpt-3.5-turbo\",\n",
    "    messages = [\n",
    "    {\"role\": \"system\", \"content\" : \"You are a brilliant programmer. You can follow instructions and create code that is both beautiful and elegant.\"},\n",
    "    {\"role\": \"user\", \"content\": \"Write python code to solve this: \" + interim_response.choices[0].message.content}\n",
    "    ]\n",
    ")\n",
    "print(response.choices[0].message.content)"
   ]
  }
 ],
 "metadata": {
  "kernelspec": {
   "display_name": "Python 3",
   "language": "python",
   "name": "python3"
  },
  "language_info": {
   "codemirror_mode": {
    "name": "ipython",
    "version": 3
   },
   "file_extension": ".py",
   "mimetype": "text/x-python",
   "name": "python",
   "nbconvert_exporter": "python",
   "pygments_lexer": "ipython3",
   "version": "3.9.6"
  },
  "orig_nbformat": 4
 },
 "nbformat": 4,
 "nbformat_minor": 2
}
